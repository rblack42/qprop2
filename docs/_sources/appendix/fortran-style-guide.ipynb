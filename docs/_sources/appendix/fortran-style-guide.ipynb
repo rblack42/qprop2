{
 "cells": [
  {
   "cell_type": "markdown",
   "id": "7851e334",
   "metadata": {},
   "source": [
    "# Fortran Style Guide"
   ]
  },
  {
   "cell_type": "markdown",
   "id": "047f42a1",
   "metadata": {},
   "source": [
    "I am trying to write code that is easy to follow. That means I am partitioning the code into blocks that are small and focused on one task. The result is a large number of small modules. This is not necessarily a bad thing considering that this project is being developed for folks who are not seasoned programmers. Hopefully the names of routines and modules will help the reader figure out the purpose of each routine.\n",
    "\n",
    "This page will detail the coding conventions I am using."
   ]
  },
  {
   "cell_type": "markdown",
   "id": "9cbe98de",
   "metadata": {},
   "source": [
    "## Naming Conventions\n",
    "\n",
    "We will use two basic types of modules. One will contain code and internally defined variables. The other is data only, intended to be **used** only by modules that need access to those data items. We do need to pay attention to name collisions when multiple data modules are used in the same code module. Rather than use huge lists of arguments to subroutines in this code, we will pass data round using data only modules, focused on one aspect of the program only. \n",
    "\n",
    "- code modules: file name begins with \"m_\"\n",
    "- data modules: file name begins with \"d_\"\n",
    "\n"
   ]
  },
  {
   "cell_type": "markdown",
   "id": "a01e11ef",
   "metadata": {},
   "source": [
    "## Subroutine Arguments\n",
    "\n",
    "All arguments are written with an explict **intent**. \n",
    "\n",
    "Subroutine parameters that are arrays are declared in the subroutine as follows:\n",
    "\n",
    "```{code}\n",
    "character(len=*), intent(in) :: param\n",
    "```"
   ]
  },
  {
   "cell_type": "markdown",
   "id": "7edb4b39",
   "metadata": {},
   "source": [
    "## Array Dimensions\n",
    "\n",
    "All arrays with specified sizes will be declared using a named constant integer to make modifying that size easy if needed. "
   ]
  },
  {
   "cell_type": "code",
   "execution_count": null,
   "id": "14c33471",
   "metadata": {},
   "outputs": [],
   "source": []
  }
 ],
 "metadata": {
  "kernelspec": {
   "display_name": "Python 3 (ipykernel)",
   "language": "python",
   "name": "python3"
  },
  "language_info": {
   "codemirror_mode": {
    "name": "ipython",
    "version": 3
   },
   "file_extension": ".py",
   "mimetype": "text/x-python",
   "name": "python",
   "nbconvert_exporter": "python",
   "pygments_lexer": "ipython3",
   "version": "3.10.8"
  },
  "toc": {
   "base_numbering": 1,
   "nav_menu": {},
   "number_sections": true,
   "sideBar": true,
   "skip_h1_title": false,
   "title_cell": "Table of Contents",
   "title_sidebar": "Contents",
   "toc_cell": false,
   "toc_position": {},
   "toc_section_display": true,
   "toc_window_display": false
  },
  "varInspector": {
   "cols": {
    "lenName": 16,
    "lenType": 16,
    "lenVar": 40
   },
   "kernels_config": {
    "python": {
     "delete_cmd_postfix": "",
     "delete_cmd_prefix": "del ",
     "library": "var_list.py",
     "varRefreshCmd": "print(var_dic_list())"
    },
    "r": {
     "delete_cmd_postfix": ") ",
     "delete_cmd_prefix": "rm(",
     "library": "var_list.r",
     "varRefreshCmd": "cat(var_dic_list()) "
    }
   },
   "types_to_exclude": [
    "module",
    "function",
    "builtin_function_or_method",
    "instance",
    "_Feature"
   ],
   "window_display": false
  }
 },
 "nbformat": 4,
 "nbformat_minor": 5
}
